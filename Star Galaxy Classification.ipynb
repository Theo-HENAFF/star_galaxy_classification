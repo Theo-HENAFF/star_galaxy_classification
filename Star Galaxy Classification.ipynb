{
 "cells": [
  {
   "cell_type": "code",
   "execution_count": 1,
   "metadata": {},
   "outputs": [],
   "source": [
    "import keras\n",
    "from keras.models import Sequential,Input,Model\n",
    "from keras.layers import Dense, Dropout, Flatten\n",
    "from keras.layers import Conv2D, MaxPooling2D\n",
    "from keras.layers.normalization import BatchNormalization\n",
    "from keras.layers.advanced_activations import LeakyReLU\n",
    "from data_prep import IMGSIZE\n",
    "import matplotlib.pyplot as plt"
   ]
  },
  {
   "cell_type": "markdown",
   "metadata": {},
   "source": [
    "# Parameters"
   ]
  },
  {
   "cell_type": "code",
   "execution_count": 2,
   "metadata": {},
   "outputs": [],
   "source": [
    "BACTH_SIZE = 64\n",
    "EPOCHS = 20\n",
    "NUM_CLASSES = 2"
   ]
  },
  {
   "cell_type": "markdown",
   "metadata": {},
   "source": [
    "# Model Description"
   ]
  },
  {
   "cell_type": "code",
   "execution_count": 3,
   "metadata": {},
   "outputs": [],
   "source": [
    "def createModel():\n",
    "    #First, we initialize our NN model\n",
    "    fashion_model = Sequential()\n",
    "\n",
    "    #Then, we feed him with different layers\n",
    "    #First layer is a 32-3x3 Convolutional layer followed by a LeakyRELU and pooling\n",
    "    fashion_model.add(Conv2D(32, kernel_size=(3, 3),activation='linear',input_shape=(IMGSIZE,IMGSIZE,1),padding='same'))\n",
    "    fashion_model.add(LeakyReLU(alpha=0.1))\n",
    "    fashion_model.add(MaxPooling2D((2, 2),padding='same'))\n",
    "    fashion_model.add(Conv2D(64, (3, 3), activation='linear',padding='same'))\n",
    "    fashion_model.add(LeakyReLU(alpha=0.1))\n",
    "    fashion_model.add(MaxPooling2D(pool_size=(2, 2),padding='same'))\n",
    "    fashion_model.add(Conv2D(128, (3, 3), activation='linear',padding='same'))\n",
    "    fashion_model.add(LeakyReLU(alpha=0.1))                  \n",
    "    fashion_model.add(MaxPooling2D(pool_size=(2, 2),padding='same'))\n",
    "    fashion_model.add(Flatten())\n",
    "    fashion_model.add(Dense(128, activation='linear'))\n",
    "    fashion_model.add(LeakyReLU(alpha=0.1))                  \n",
    "    fashion_model.add(Dense(NUM_CLASSES, activation='softmax'))\n",
    "    fashion_model.compile(loss=keras.losses.categorical_crossentropy, optimizer=keras.optimizers.Adam(),metrics=['accuracy'])\n",
    "    return fashion_model"
   ]
  },
  {
   "cell_type": "markdown",
   "metadata": {},
   "source": [
    "# Model training"
   ]
  },
  {
   "cell_type": "code",
   "execution_count": 4,
   "metadata": {},
   "outputs": [],
   "source": [
    "def trainModel(train_X, train_label, valid_X, valid_label, test_X, train_X_one_hot, test_Y_one_hot):\n",
    "    fashion_model = createModel()\n",
    "    fashion_train = fashion_model.fit(train_X, train_label, batch_size=BACTH_SIZE,epochs=EPOCHS,verbose=1, shuffle=True, validation_data=(valid_X, valid_label))\n",
    "\n",
    "    evaluateModel(fashion_train)\n",
    "\n",
    "    test_eval = fashion_model.evaluate(test_X, test_Y_one_hot, verbose=0)\n",
    "    print('Test loss:', test_eval[0])\n",
    "    print('Test accuracy:', test_eval[1])"
   ]
  },
  {
   "cell_type": "markdown",
   "metadata": {},
   "source": [
    "# Model evaluation"
   ]
  },
  {
   "cell_type": "code",
   "execution_count": 5,
   "metadata": {},
   "outputs": [],
   "source": [
    "def evaluateModel(fashion_train):\n",
    "    accuracy = fashion_train.history['accuracy']\n",
    "    val_accuracy = fashion_train.history['val_accuracy']\n",
    "    loss = fashion_train.history['loss']\n",
    "    val_loss = fashion_train.history['val_loss']\n",
    "    epochs = range(len(accuracy))\n",
    "    plt.plot(epochs, accuracy, 'bo', label='Training accuracy')\n",
    "    plt.plot(epochs, val_accuracy, 'b', label='Validation accuracy')\n",
    "    plt.title('Training and validation accuracy')\n",
    "    plt.legend()\n",
    "    plt.figure()\n",
    "    plt.plot(epochs, loss, 'bo', label='Training loss')\n",
    "    plt.plot(epochs, val_loss, 'b', label='Validation loss')\n",
    "    plt.title('Training and validation loss')\n",
    "    plt.legend()\n",
    "    plt.show()"
   ]
  },
  {
   "cell_type": "code",
   "execution_count": null,
   "metadata": {},
   "outputs": [
    {
     "name": "stdout",
     "output_type": "stream",
     "text": [
      "(8000, 128, 128, 1) (8000, 128, 128, 1)\n",
      "Epoch 1/20\n",
      "100/100 [==============================] - 95s 947ms/step - loss: 0.3739 - accuracy: 0.8258 - val_loss: 0.3147 - val_accuracy: 0.8619\n",
      "Epoch 2/20\n",
      "100/100 [==============================] - 102s 1s/step - loss: 0.3083 - accuracy: 0.8758 - val_loss: 0.2454 - val_accuracy: 0.9038\n",
      "Epoch 3/20\n",
      " 43/100 [===========>..................] - ETA: 51s - loss: 0.2728 - accuracy: 0.8924"
     ]
    }
   ],
   "source": [
    "from data_prep import dataPreProcessing\n",
    "\n",
    "train_X,valid_X,train_label,valid_label, test_X, train_X_one_hot, test_Y_one_hot = dataPreProcessing()\n",
    "trainModel(train_X, train_label, valid_X, valid_label, test_X, train_X_one_hot, test_Y_one_hot)"
   ]
  },
  {
   "cell_type": "code",
   "execution_count": null,
   "metadata": {},
   "outputs": [],
   "source": []
  },
  {
   "cell_type": "code",
   "execution_count": null,
   "metadata": {},
   "outputs": [],
   "source": []
  }
 ],
 "metadata": {
  "kernelspec": {
   "display_name": "Python 3",
   "language": "python",
   "name": "python3"
  },
  "language_info": {
   "codemirror_mode": {
    "name": "ipython",
    "version": 3
   },
   "file_extension": ".py",
   "mimetype": "text/x-python",
   "name": "python",
   "nbconvert_exporter": "python",
   "pygments_lexer": "ipython3",
   "version": "3.7.9"
  }
 },
 "nbformat": 4,
 "nbformat_minor": 4
}
